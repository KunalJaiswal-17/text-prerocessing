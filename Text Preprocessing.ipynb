{
 "cells": [
  {
   "cell_type": "code",
   "execution_count": 1,
   "id": "5aee6185",
   "metadata": {},
   "outputs": [],
   "source": [
    "import pandas as pd\n",
    "import numpy as np\n",
    "\n",
    "from sklearn.feature_extraction.text import CountVectorizer\n",
    "import nltk\n",
    "\n",
    "from nltk.corpus import stopwords\n",
    "from nltk.stem import PorterStemmer"
   ]
  },
  {
   "cell_type": "code",
   "execution_count": 2,
   "id": "41a975c3",
   "metadata": {},
   "outputs": [
    {
     "data": {
      "text/html": [
       "<div>\n",
       "<style scoped>\n",
       "    .dataframe tbody tr th:only-of-type {\n",
       "        vertical-align: middle;\n",
       "    }\n",
       "\n",
       "    .dataframe tbody tr th {\n",
       "        vertical-align: top;\n",
       "    }\n",
       "\n",
       "    .dataframe thead th {\n",
       "        text-align: right;\n",
       "    }\n",
       "</style>\n",
       "<table border=\"1\" class=\"dataframe\">\n",
       "  <thead>\n",
       "    <tr style=\"text-align: right;\">\n",
       "      <th></th>\n",
       "      <th>file</th>\n",
       "      <th>message</th>\n",
       "    </tr>\n",
       "  </thead>\n",
       "  <tbody>\n",
       "    <tr>\n",
       "      <th>0</th>\n",
       "      <td>allen-p/_sent_mail/1.</td>\n",
       "      <td>Message-ID: &lt;18782981.1075855378110.JavaMail.e...</td>\n",
       "    </tr>\n",
       "    <tr>\n",
       "      <th>1</th>\n",
       "      <td>allen-p/_sent_mail/10.</td>\n",
       "      <td>Message-ID: &lt;15464986.1075855378456.JavaMail.e...</td>\n",
       "    </tr>\n",
       "    <tr>\n",
       "      <th>2</th>\n",
       "      <td>allen-p/_sent_mail/100.</td>\n",
       "      <td>Message-ID: &lt;24216240.1075855687451.JavaMail.e...</td>\n",
       "    </tr>\n",
       "    <tr>\n",
       "      <th>3</th>\n",
       "      <td>allen-p/_sent_mail/1000.</td>\n",
       "      <td>Message-ID: &lt;13505866.1075863688222.JavaMail.e...</td>\n",
       "    </tr>\n",
       "    <tr>\n",
       "      <th>4</th>\n",
       "      <td>allen-p/_sent_mail/1001.</td>\n",
       "      <td>Message-ID: &lt;30922949.1075863688243.JavaMail.e...</td>\n",
       "    </tr>\n",
       "  </tbody>\n",
       "</table>\n",
       "</div>"
      ],
      "text/plain": [
       "                       file                                            message\n",
       "0     allen-p/_sent_mail/1.  Message-ID: <18782981.1075855378110.JavaMail.e...\n",
       "1    allen-p/_sent_mail/10.  Message-ID: <15464986.1075855378456.JavaMail.e...\n",
       "2   allen-p/_sent_mail/100.  Message-ID: <24216240.1075855687451.JavaMail.e...\n",
       "3  allen-p/_sent_mail/1000.  Message-ID: <13505866.1075863688222.JavaMail.e...\n",
       "4  allen-p/_sent_mail/1001.  Message-ID: <30922949.1075863688243.JavaMail.e..."
      ]
     },
     "execution_count": 2,
     "metadata": {},
     "output_type": "execute_result"
    }
   ],
   "source": [
    "data = pd.read_csv(\"D:/Python Programming/emails.csv\")\n",
    "data.head()"
   ]
  },
  {
   "cell_type": "code",
   "execution_count": 3,
   "id": "8ae68df0",
   "metadata": {},
   "outputs": [
    {
     "data": {
      "text/plain": [
       "(517401, 2)"
      ]
     },
     "execution_count": 3,
     "metadata": {},
     "output_type": "execute_result"
    }
   ],
   "source": [
    "data.shape"
   ]
  },
  {
   "cell_type": "code",
   "execution_count": 4,
   "id": "c33883d1",
   "metadata": {},
   "outputs": [],
   "source": [
    "data.drop('file', axis = 1, inplace = True)"
   ]
  },
  {
   "cell_type": "code",
   "execution_count": 5,
   "id": "30c8b2ca",
   "metadata": {},
   "outputs": [
    {
     "data": {
      "text/html": [
       "<div>\n",
       "<style scoped>\n",
       "    .dataframe tbody tr th:only-of-type {\n",
       "        vertical-align: middle;\n",
       "    }\n",
       "\n",
       "    .dataframe tbody tr th {\n",
       "        vertical-align: top;\n",
       "    }\n",
       "\n",
       "    .dataframe thead th {\n",
       "        text-align: right;\n",
       "    }\n",
       "</style>\n",
       "<table border=\"1\" class=\"dataframe\">\n",
       "  <thead>\n",
       "    <tr style=\"text-align: right;\">\n",
       "      <th></th>\n",
       "      <th>message</th>\n",
       "    </tr>\n",
       "  </thead>\n",
       "  <tbody>\n",
       "    <tr>\n",
       "      <th>0</th>\n",
       "      <td>Message-ID: &lt;18782981.1075855378110.JavaMail.e...</td>\n",
       "    </tr>\n",
       "    <tr>\n",
       "      <th>1</th>\n",
       "      <td>Message-ID: &lt;15464986.1075855378456.JavaMail.e...</td>\n",
       "    </tr>\n",
       "    <tr>\n",
       "      <th>2</th>\n",
       "      <td>Message-ID: &lt;24216240.1075855687451.JavaMail.e...</td>\n",
       "    </tr>\n",
       "    <tr>\n",
       "      <th>3</th>\n",
       "      <td>Message-ID: &lt;13505866.1075863688222.JavaMail.e...</td>\n",
       "    </tr>\n",
       "    <tr>\n",
       "      <th>4</th>\n",
       "      <td>Message-ID: &lt;30922949.1075863688243.JavaMail.e...</td>\n",
       "    </tr>\n",
       "    <tr>\n",
       "      <th>...</th>\n",
       "      <td>...</td>\n",
       "    </tr>\n",
       "    <tr>\n",
       "      <th>4995</th>\n",
       "      <td>Message-ID: &lt;1618629.1075852693101.JavaMail.ev...</td>\n",
       "    </tr>\n",
       "    <tr>\n",
       "      <th>4996</th>\n",
       "      <td>Message-ID: &lt;25218462.1075852693367.JavaMail.e...</td>\n",
       "    </tr>\n",
       "    <tr>\n",
       "      <th>4997</th>\n",
       "      <td>Message-ID: &lt;20671206.1075852693390.JavaMail.e...</td>\n",
       "    </tr>\n",
       "    <tr>\n",
       "      <th>4998</th>\n",
       "      <td>Message-ID: &lt;31930685.1075852693414.JavaMail.e...</td>\n",
       "    </tr>\n",
       "    <tr>\n",
       "      <th>4999</th>\n",
       "      <td>Message-ID: &lt;22994957.1075852693440.JavaMail.e...</td>\n",
       "    </tr>\n",
       "  </tbody>\n",
       "</table>\n",
       "<p>5000 rows × 1 columns</p>\n",
       "</div>"
      ],
      "text/plain": [
       "                                                message\n",
       "0     Message-ID: <18782981.1075855378110.JavaMail.e...\n",
       "1     Message-ID: <15464986.1075855378456.JavaMail.e...\n",
       "2     Message-ID: <24216240.1075855687451.JavaMail.e...\n",
       "3     Message-ID: <13505866.1075863688222.JavaMail.e...\n",
       "4     Message-ID: <30922949.1075863688243.JavaMail.e...\n",
       "...                                                 ...\n",
       "4995  Message-ID: <1618629.1075852693101.JavaMail.ev...\n",
       "4996  Message-ID: <25218462.1075852693367.JavaMail.e...\n",
       "4997  Message-ID: <20671206.1075852693390.JavaMail.e...\n",
       "4998  Message-ID: <31930685.1075852693414.JavaMail.e...\n",
       "4999  Message-ID: <22994957.1075852693440.JavaMail.e...\n",
       "\n",
       "[5000 rows x 1 columns]"
      ]
     },
     "execution_count": 5,
     "metadata": {},
     "output_type": "execute_result"
    }
   ],
   "source": [
    "data.head(5000)"
   ]
  },
  {
   "cell_type": "code",
   "execution_count": 6,
   "id": "f3137be1",
   "metadata": {},
   "outputs": [],
   "source": [
    "msg = data['message']"
   ]
  },
  {
   "cell_type": "code",
   "execution_count": 7,
   "id": "df9f4839",
   "metadata": {},
   "outputs": [
    {
     "name": "stdout",
     "output_type": "stream",
     "text": [
      "Message-ID: <18782981.1075855378110.JavaMail.evans@thyme>\n",
      "Date: Mon, 14 May 2001 16:39:00 -0700 (PDT)\n",
      "From: phillip.allen@enron.com\n",
      "To: tim.belden@enron.com\n",
      "Subject: \n",
      "Mime-Version: 1.0\n",
      "Content-Type: text/plain; charset=us-ascii\n",
      "Content-Transfer-Encoding: 7bit\n",
      "X-From: Phillip K Allen\n",
      "X-To: Tim Belden <Tim Belden/Enron@EnronXGate>\n",
      "X-cc: \n",
      "X-bcc: \n",
      "X-Folder: \\Phillip_Allen_Jan2002_1\\Allen, Phillip K.\\'Sent Mail\n",
      "X-Origin: Allen-P\n",
      "X-FileName: pallen (Non-Privileged).pst\n",
      "\n",
      "Here is our forecast\n",
      "\n",
      " \n"
     ]
    }
   ],
   "source": [
    "print(msg[0])"
   ]
  },
  {
   "cell_type": "code",
   "execution_count": 8,
   "id": "d9a9d666",
   "metadata": {},
   "outputs": [],
   "source": [
    "msg1 = msg.head(5000)"
   ]
  },
  {
   "cell_type": "code",
   "execution_count": 9,
   "id": "53256089",
   "metadata": {},
   "outputs": [
    {
     "name": "stdout",
     "output_type": "stream",
     "text": [
      "{'your', 'as', 'which', 'both', 'above', 'yourself', 'my', 'theirs', 'it', 'am', 'any', 'him', 'ain', \"hadn't\", 'll', 'before', 'here', 'will', 'own', 'needn', 'shan', \"haven't\", 'just', 'yours', 'about', 'weren', 'an', 'wouldn', \"it's\", 'now', 'his', 'can', \"aren't\", \"you've\", 'shouldn', \"shan't\", 'no', 'because', 'doing', 'a', 'didn', \"wouldn't\", 'should', 'i', \"you'd\", 'mustn', 'doesn', 'ma', \"didn't\", \"that'll\", 'of', 'not', 'with', 'ourselves', 'its', 'is', 'be', 'that', 'm', 'to', 'ours', 'you', 'when', \"you're\", 'why', 'all', 'each', \"should've\", 'hadn', 'what', 'this', 'he', 'their', 'off', 'some', 'on', 'such', 'those', 'until', 'but', \"couldn't\", 's', 'only', 'out', 'for', 'having', 'himself', 'more', 'who', 'aren', \"mightn't\", 'them', 'd', 'during', \"shouldn't\", 'wasn', 'between', 'too', 'if', 'mightn', \"she's\", 'most', 'other', 'and', 'they', 'nor', 'are', 'under', 'once', 'y', 'while', 'at', \"won't\", 'against', 'myself', 'hasn', \"mustn't\", 'very', 'haven', \"you'll\", 'were', 'have', 'from', 'then', \"doesn't\", 'won', 're', 'by', 'do', 'did', 'being', \"don't\", 'after', 'these', 'has', 'up', 'into', 'below', \"isn't\", 'over', 'themselves', 'how', 'couldn', 'her', 'had', 'where', 'does', 't', 'we', 'was', 'further', \"weren't\", \"hasn't\", 'few', 'herself', 'or', 'there', 'through', 'o', 'same', 'don', 'isn', 'me', 'whom', 'again', 'yourselves', 'so', 'hers', 'our', 'than', \"needn't\", 'been', 'in', 'she', \"wasn't\", 'the', 'down', 've', 'itself'}\n"
     ]
    }
   ],
   "source": [
    "stop = set(stopwords.words('english')) \n",
    "print(stop)"
   ]
  },
  {
   "cell_type": "code",
   "execution_count": 10,
   "id": "9c753682",
   "metadata": {},
   "outputs": [],
   "source": [
    "def check_word_in_stopwords(word):\n",
    "    if word in set(stopwords.words('english')):\n",
    "        return \"Available\""
   ]
  },
  {
   "cell_type": "code",
   "execution_count": 11,
   "id": "235edbef",
   "metadata": {},
   "outputs": [],
   "source": [
    "import re\n",
    "\n",
    "temp =[]\n",
    "\n",
    "snow = nltk.stem.SnowballStemmer('english')\n",
    "\n",
    "for sentence in msg1.values:\n",
    "    sentence = sentence.lower()                 # Converting to lowercase\n",
    "    cleanr = re.compile('<.*?>')\n",
    "    sentence = re.sub(cleanr, ' ', sentence)        #Removing HTML tags\n",
    "    sentence = re.sub(r'[?|!|\\'|\"|#]',r'',sentence)\n",
    "    sentence = re.sub(r'[.|,|)|(|\\|/]',r' ',sentence)        #Removing Punctuations\n",
    "    \n",
    "    words = [snow.stem(word) for word in sentence.split() if word not in stopwords.words('english')]   # Stemming and removing stopwords\n",
    "    temp.append(words)"
   ]
  },
  {
   "cell_type": "code",
   "execution_count": 12,
   "id": "17b0467b",
   "metadata": {},
   "outputs": [],
   "source": [
    "final_msg = temp.copy()"
   ]
  },
  {
   "cell_type": "code",
   "execution_count": 14,
   "id": "b0f93d46",
   "metadata": {},
   "outputs": [
    {
     "name": "stdout",
     "output_type": "stream",
     "text": [
      "Message-ID: <18782981.1075855378110.JavaMail.evans@thyme>\n",
      "Date: Mon, 14 May 2001 16:39:00 -0700 (PDT)\n",
      "From: phillip.allen@enron.com\n",
      "To: tim.belden@enron.com\n",
      "Subject: \n",
      "Mime-Version: 1.0\n",
      "Content-Type: text/plain; charset=us-ascii\n",
      "Content-Transfer-Encoding: 7bit\n",
      "X-From: Phillip K Allen\n",
      "X-To: Tim Belden <Tim Belden/Enron@EnronXGate>\n",
      "X-cc: \n",
      "X-bcc: \n",
      "X-Folder: \\Phillip_Allen_Jan2002_1\\Allen, Phillip K.\\'Sent Mail\n",
      "X-Origin: Allen-P\n",
      "X-FileName: pallen (Non-Privileged).pst\n",
      "\n",
      "Here is our forecast\n",
      "\n",
      " \n"
     ]
    }
   ],
   "source": [
    "print(msg[0])"
   ]
  },
  {
   "cell_type": "code",
   "execution_count": 15,
   "id": "7069f20a",
   "metadata": {},
   "outputs": [
    {
     "name": "stdout",
     "output_type": "stream",
     "text": [
      "['message-id:', 'date:', 'mon', '14', 'may', '2001', '16:39:00', '-0700', 'pdt', 'from:', 'phillip', 'allen@enron', 'com', 'to:', 'tim', 'belden@enron', 'com', 'subject:', 'mime-version:', '1', '0', 'content-type:', 'text', 'plain;', 'charset=us-ascii', 'content-transfer-encoding:', '7bit', 'x-from:', 'phillip', 'k', 'allen', 'x-to:', 'tim', 'belden', 'x-cc:', 'x-bcc:', 'x-folder:', '\\\\phillip_allen_jan2002_1\\\\allen', 'phillip', 'k', '\\\\sent', 'mail', 'x-origin:', 'allen-p', 'x-filename:', 'pallen', 'non-privileg', 'pst', 'forecast']\n"
     ]
    }
   ],
   "source": [
    "print(final_msg[0])"
   ]
  },
  {
   "cell_type": "code",
   "execution_count": 17,
   "id": "64b7982f",
   "metadata": {},
   "outputs": [],
   "source": [
    "sent = []\n",
    "for row in final_msg:\n",
    "    sequ = ''\n",
    "    for word in row:\n",
    "        sequ = sequ + ' ' + word\n",
    "    sent.append(sequ)"
   ]
  },
  {
   "cell_type": "code",
   "execution_count": 18,
   "id": "65ffd2cc",
   "metadata": {},
   "outputs": [
    {
     "data": {
      "text/plain": [
       "' message-id: date: mon 14 may 2001 16:39:00 -0700 pdt from: phillip allen@enron com to: tim belden@enron com subject: mime-version: 1 0 content-type: text plain; charset=us-ascii content-transfer-encoding: 7bit x-from: phillip k allen x-to: tim belden x-cc: x-bcc: x-folder: \\\\phillip_allen_jan2002_1\\\\allen phillip k \\\\sent mail x-origin: allen-p x-filename: pallen non-privileg pst forecast'"
      ]
     },
     "execution_count": 18,
     "metadata": {},
     "output_type": "execute_result"
    }
   ],
   "source": [
    "sent[0]"
   ]
  },
  {
   "cell_type": "code",
   "execution_count": 19,
   "id": "5b720810",
   "metadata": {},
   "outputs": [],
   "source": [
    "cv = CountVectorizer(max_features=5000)"
   ]
  },
  {
   "cell_type": "code",
   "execution_count": 20,
   "id": "8a7d7e8d",
   "metadata": {},
   "outputs": [
    {
     "data": {
      "text/plain": [
       "<5000x5000 sparse matrix of type '<class 'numpy.int64'>'\n",
       "\twith 531392 stored elements in Compressed Sparse Row format>"
      ]
     },
     "execution_count": 20,
     "metadata": {},
     "output_type": "execute_result"
    }
   ],
   "source": [
    "cv.fit_transform(sent)"
   ]
  },
  {
   "cell_type": "code",
   "execution_count": 21,
   "id": "c60b0fcb",
   "metadata": {},
   "outputs": [
    {
     "data": {
      "text/plain": [
       "5000"
      ]
     },
     "execution_count": 21,
     "metadata": {},
     "output_type": "execute_result"
    }
   ],
   "source": [
    "len(list(cv.vocabulary_.items()))"
   ]
  }
 ],
 "metadata": {
  "kernelspec": {
   "display_name": "Python 3 (ipykernel)",
   "language": "python",
   "name": "python3"
  },
  "language_info": {
   "codemirror_mode": {
    "name": "ipython",
    "version": 3
   },
   "file_extension": ".py",
   "mimetype": "text/x-python",
   "name": "python",
   "nbconvert_exporter": "python",
   "pygments_lexer": "ipython3",
   "version": "3.8.5"
  }
 },
 "nbformat": 4,
 "nbformat_minor": 5
}
